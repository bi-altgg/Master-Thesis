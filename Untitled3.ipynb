{
 "cells": [
  {
   "cell_type": "code",
   "execution_count": 12,
   "id": "c3692cfc-24e9-490c-b1a5-3d7e8f2deb7d",
   "metadata": {},
   "outputs": [
    {
     "name": "stdout",
     "output_type": "stream",
     "text": [
      "nan\n",
      "0.454461859249057\n",
      "0.0\n",
      "0.0\n",
      "0.0\n"
     ]
    },
    {
     "name": "stderr",
     "output_type": "stream",
     "text": [
      "/tmp/ipykernel_16251/2754223484.py:51: RuntimeWarning: invalid value encountered in double_scalars\n",
      "  print((rl+((rn*nl)/(nr+nl))))\n"
     ]
    }
   ],
   "source": [
    "import numpy as np\n",
    "import matplotlib.pyplot as plt\n",
    "import scipy\n",
    "import math,cmath\n",
    "from scipy.sparse import diags\n",
    "#Creating the spectral density matrix\n",
    "n=200;#laatice sites\n",
    "no=100;#bath lattice point\n",
    "b = (1+np.sqrt(5))/2\n",
    "to = 3.0 #bath tunneling potential\n",
    "t = 1.0 #system hopping\n",
    "lamba = 0.5\n",
    "alpha = 0.0\n",
    "sitegammaindx = [0, n-1, no-1]\n",
    "sitgamstr = [1.0,4.0,0.0]\n",
    "sitepotential = 0.0;#bath site potential(constant)\n",
    "siteindx = np.array(range(1, n+1))\n",
    "sitepotentialAAH = 2*lamba*np.cos(2*np.pi*b*(siteindx))\n",
    "def selfenergy(gamma,energy):\n",
    "    mat = ((gamma**2)/(2*to**2))*(energy - np.sqrt((4*to**2)-(energy**2))*1j)\n",
    "    return mat\n",
    "def specden(gamma,site,energy):#spectral density matrix(-2Im(sigma))\n",
    "    mat = np.zeros((n,n),dtype = 'complex_')\n",
    "    mat[site,site] = -2*(selfenergy(gamma,energy).imag)\n",
    "    return mat\n",
    "#Green's functions\n",
    "def ret_gre(energy):\n",
    "    k = [np.ones(n-1),np.ones(n),np.ones(n-1)]\n",
    "    offset = [-1,0,1]\n",
    "    mat = diags(k,offset,dtype='complex_').toarray()\n",
    "    for i in range(n):\n",
    "        mat[i, i] = (energy - sitepotentialAAH[i]) / t\n",
    "    for i in range(3):        \n",
    "        mat[sitegammaindx[i],sitegammaindx[i]] = (energy - sitepotentialAAH[i] - selfenergy(sitgamstr[i],energy))/t\n",
    "    return ((np.linalg.inv(mat)/t))\n",
    "def adv_gre(energy):\n",
    "    return np.transpose(np.conjugate(ret_gre(energy)))\n",
    "#transmission probability\n",
    "def trnasmission(sgindx1,sgstrn1,sgindx2,sgstrn2,energy):\n",
    "    spcdn1 = specden(sgstrn1,sgindx1,energy)\n",
    "    retgre = ret_gre(energy)\n",
    "    spcdn2 = specden(sgstrn2,sgindx2,energy)\n",
    "    advgre = adv_gre(energy)\n",
    "    mat = np.dot(np.dot(spcdn1,retgre),np.dot(spcdn2,advgre))\n",
    "    return np.trace(mat)\n",
    "fe = 0.0\n",
    "rl = trnasmission(sitegammaindx[1],sitgamstr[1],sitegammaindx[0],sitgamstr[0],fe).real\n",
    "nr = trnasmission(sitegammaindx[2],sitgamstr[2],sitegammaindx[1],sitgamstr[1],fe).real\n",
    "nl = trnasmission(sitegammaindx[2],sitgamstr[2],sitegammaindx[0],sitgamstr[0],fe).real\n",
    "rn = trnasmission(sitegammaindx[1],sitgamstr[1],sitegammaindx[2],sitgamstr[2],fe).real\n",
    "print((rl+((rn*nl)/(nr+nl))))\n",
    "print(rl)\n",
    "print(rn)\n",
    "print(nr)\n",
    "print(nl)\n",
    "\n",
    "\n"
   ]
  },
  {
   "cell_type": "code",
   "execution_count": 16,
   "id": "eee8f7ac-39de-40b8-85ef-dc157be5d9da",
   "metadata": {},
   "outputs": [
    {
     "name": "stdout",
     "output_type": "stream",
     "text": [
      "(-5.648611111111112-17.282493606605087j)\n"
     ]
    }
   ],
   "source": [
    "print((((7.0)**2)/(2*(3.0)**2))*((-2.075) - np.sqrt((4*3.0**2)-((-2.075)**2))*1j))"
   ]
  },
  {
   "cell_type": "code",
   "execution_count": 22,
   "id": "eb549c94-a9d7-47d4-978c-35afa29a9547",
   "metadata": {},
   "outputs": [
    {
     "name": "stdout",
     "output_type": "stream",
     "text": [
      "0.9975088994041434\n"
     ]
    }
   ],
   "source": [
    "print(2*0.5*np.cos(2*np.pi*b*(199)))"
   ]
  },
  {
   "cell_type": "code",
   "execution_count": null,
   "id": "15a236dd-7666-4004-9a53-39a28825ed50",
   "metadata": {},
   "outputs": [],
   "source": []
  }
 ],
 "metadata": {
  "kernelspec": {
   "display_name": "Python 3 (ipykernel)",
   "language": "python",
   "name": "python3"
  },
  "language_info": {
   "codemirror_mode": {
    "name": "ipython",
    "version": 3
   },
   "file_extension": ".py",
   "mimetype": "text/x-python",
   "name": "python",
   "nbconvert_exporter": "python",
   "pygments_lexer": "ipython3",
   "version": "3.10.5"
  }
 },
 "nbformat": 4,
 "nbformat_minor": 5
}

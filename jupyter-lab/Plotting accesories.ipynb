{
 "cells": [
  {
   "cell_type": "code",
   "execution_count": 20,
   "metadata": {},
   "outputs": [
    {
     "data": {
      "image/png": "[encoded data removed]",
      "text/plain": [
       "<Figure size 252x252 with 1 Axes>"
      ]
     },
     "metadata": {
      "needs_background": "light"
     },
     "output_type": "display_data"
    }
   ],
   "source": [
    "import numpy as np\n",
    "import matplotlib.pyplot as plt\n",
    "import scipy\n",
    "import math,cmath\n",
    "from scipy.sparse import diags\n",
    "plt.rcParams[\"font.family\"] = \"serif\"\n",
    "plt.rcParams[\"font.serif\"] = [\"Times New Roman\"]\n",
    "\n",
    "SMALL_SIZE = 12\n",
    "MEDIUM_SIZE = 16\n",
    "BIGGER_SIZE = 20\n",
    "\n",
    "plt.rc('font', size=SMALL_SIZE)          # controls default text sizes\n",
    "plt.rc('axes', titlesize=SMALL_SIZE)     # fontsize of the axes title\n",
    "plt.rc('axes', labelsize=MEDIUM_SIZE)    # fontsize of the x and y labels\n",
    "plt.rc('xtick', labelsize=SMALL_SIZE)    # fontsize of the tick labels\n",
    "plt.rc('ytick', labelsize=SMALL_SIZE)    # fontsize of the tick labels\n",
    "plt.rc('legend', fontsize=SMALL_SIZE)    # legend fontsize\n",
    "plt.rc('figure', titlesize=BIGGER_SIZE)  \n",
    "np.random.seed(19680801) \n",
    "    \n",
    "# create random data \n",
    "xdata = np.random.random([2, 10]) \n",
    "    \n",
    "# split the data into two parts \n",
    "xdata1 = xdata[0, :] \n",
    "xdata2 = xdata[1, :] \n",
    "    \n",
    "# sort the data so it makes clean curves \n",
    "xdata1.sort() \n",
    "xdata2.sort() \n",
    "    \n",
    "# create some y data points \n",
    "ydata1 = xdata1 ** 2\n",
    "ydata2 = 1 - xdata2 ** 3\n",
    "    \n",
    "# plot the data \n",
    "plt.figure(figsize=(3.5,3.5)) \n",
    "plt.plot(xdata1, ydata1,label =  '$\\gamma = 1.0$', color ='tab:blue') \n",
    "plt.plot(xdata2, ydata2, color ='tab:orange') \n",
    "    \n",
    "    \n",
    "# set the limits \n",
    "plt.xlim([0, 1]) \n",
    "plt.ylim([0, 1]) \n",
    "  \n",
    "plt.title('matplotlib.pyplot.plot() example 2') \n",
    "plt.title('matplotlib.pyplot.plot() example 2')\n",
    "plt.xlabel('xlabel')\n",
    "plt.ylabel('$\\epsilon_F$')\n",
    "plt.yscale('log')\n",
    "plt.grid() \n",
    "plt.legend()\n",
    "# display the plot \n",
    "plt.show()"
   ]
  },
  {
   "cell_type": "code",
   "execution_count": null,
   "metadata": {},
   "outputs": [],
   "source": []
  }
 ],
 "metadata": {
  "kernelspec": {
   "display_name": "Python 3 (ipykernel)",
   "language": "python",
   "name": "python3"
  },
  "language_info": {
   "codemirror_mode": {
    "name": "ipython",
    "version": 3
   },
   "file_extension": ".py",
   "mimetype": "text/x-python",
   "name": "python",
   "nbconvert_exporter": "python",
   "pygments_lexer": "ipython3",
   "version": "3.10.5"
  }
 },
 "nbformat": 4,
 "nbformat_minor": 4
}

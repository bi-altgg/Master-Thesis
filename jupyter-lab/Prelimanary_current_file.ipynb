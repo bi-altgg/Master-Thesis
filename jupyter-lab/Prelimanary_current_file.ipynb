{
 "cells": [
  {
   "cell_type": "code",
   "execution_count": 5,
   "id": "257bc329-c1ea-4d42-b7b5-51bd80907d78",
   "metadata": {},
   "outputs": [],
   "source": [
    "import random\n",
    "import numpy as np\n",
    "import matplotlib.pyplot as plt\n",
    "import scipy.linalg as la\n",
    "import math,cmath\n",
    "from scipy.sparse import diags\n",
    "from scipy.integrate import quad\n",
    "from mpmath import *\n",
    "from scipy import integrate\n",
    "from scipy import optimize"
   ]
  },
  {
   "cell_type": "code",
   "execution_count": 10,
   "id": "148152f7-8844-4417-b45f-8191ff4ddca1",
   "metadata": {},
   "outputs": [],
   "source": [
    "Nmst = 60; #Number of lattice points\n",
    "Pbst = 30;#Probe attachment site\n",
    "lbd = 0.0 ;#Lambda strength ofAAH\n",
    "irrb = (1 + np.sqrt(5))/2\n",
    "t = 1.0; # hopping potential for sites\n",
    "to = 3.0; # hopping potential for bath\n",
    "sitegammaindx = [0, Nmst-1, Pbst-1]\n",
    "sitegammastrn = [1.0, 1.0, 0.5]\n",
    "siteindx = np.array(range(1, Nmst+1))\n",
    "sitepotential = 2*lbd*np.cos(2*np.pi*irrb*(siteindx))\n",
    "diagonals = [sitepotential,t*np.ones(Nmst-1), t*np.ones(Nmst-1)]\n",
    "offset = [0,-1,1]\n",
    "sys_Ham = diags(diagonals,offset,dtype='complex_').toarray()\n",
    "mu_L = 0.0\n",
    "mu_R = np.linspace(0.01,15.0,50)\n",
    "beta_left = 1/80\n",
    "beta_right = 1/180\n",
    "beta_probe = 1/110\n",
    "def bosonic_distribution(mu, energy, beta):#bosonic distribution function\n",
    "    return 1/(np.exp(beta*(energy - mu)))\n",
    "def selfenergy(gamma,site,energy):#self energy matrix\n",
    "    mat =     mat = np.zeros((Nmst,Nmst),dtype = 'complex_')\n",
    "    mat[site,site] =  ((gamma**2/(2*to**2))*(energy - cmath.sqrt(4*to**2-energy**2)*1j))\n",
    "    return mat\n",
    "def specden(gamma,energy):#spectral density matrix(-2Im(sigma))\n",
    "    mat =  -2*((gamma**2/(2*to**2))*(energy - cmath.sqrt(4*to**2-energy**2)*1j)).imag\n",
    "    return mat\n",
    "def Green_func(energy):#green's function\n",
    "    mat = energy*np.identity(Nmst) - sys_Ham - selfenergy(sitegammastrn[0],sitegammaindx[0],energy) - \\\n",
    "    selfenergy(sitegammastrn[1],sitegammaindx[1],energy) - selfenergy(sitegammastrn[2],sitegammaindx[2],energy)\n",
    "    return (np.linalg.det(mat)/t)\n",
    "def advan_gren(energy):\n",
    "    mat = np.transpose(np.conjugate(Green_func(energy)))\n",
    "    return mat\n",
    "def transmissionprob(sitstrn1, sitstrn2, energy):\n",
    "    spcdn1 = specden(sitstrn1, energy)\n",
    "    retgre = Green_func(energy)\n",
    "    spcdn2 = specden(sitstrn2, energy)\n",
    "    advgre = advan_gren(energy)\n",
    "    mat = (spcdn1*spcdn2)/(abs(retgre)**2)\n",
    "    return mat"
   ]
  },
  {
   "cell_type": "code",
   "execution_count": 11,
   "id": "b07d3ab6",
   "metadata": {},
   "outputs": [],
   "source": [
    "point = np.linspace(-5,5, 1500)\n",
    "first_trans_left = transmissionprob(sitegammastrn[2], sitegammastrn[0],point)\n",
    "second_trans_right = transmissionprob(sitegammastrn[2], sitegammastrn[1],point)\n",
    "def current_val(energy,mu_p,mu_l,mu_r):#integral equation\n",
    "    first_trans = transmissionprob(sitegammastrn[2], sitegammastrn[0],energy)\n",
    "    left_bath = bosonic_distribution(mu_L, energy, beta_left)\n",
    "    probe = bosonic_distribution(mu_p, energy, beta_probe)\n",
    "    right_bath = bosonic_distribution(mu_R, energy, beta_right)\n",
    "    second_trans = transmissionprob(sitegammastrn[2], sitegammastrn[1],energy)\n",
    "    return first_trans*(probe - left_bath) + second_trans*(probe - right_bath)\n",
    "\n",
    "\n",
    "current_val2 = np.vectorize(current_val)\n",
    "def current_int(mu_p,mu_l,mu_r):\n",
    "    I = current_val2(point,mu_p,mu_l,mu_r)\n",
    "    return(integrate.simps(I,point))\n",
    "#for i in range(0,len(mu_p)):\n",
    "#    I = current_val2(point,mu_p[i],0.0,2.5)\n",
    "#    plt.plot(point,I)\n",
    "#    plt.show()\n",
    "#    print(integrate.simps(I,point))\n",
    "ion = np.vectorize(current_int)\n"
   ]
  },
  {
   "cell_type": "markdown",
   "id": "2db9e657",
   "metadata": {},
   "source": [
    "Derivative calculation"
   ]
  },
  {
   "cell_type": "code",
   "execution_count": 14,
   "id": "4538a79e",
   "metadata": {},
   "outputs": [
    {
     "name": "stdout",
     "output_type": "stream",
     "text": [
      "1.7960641041224596\n",
      "0\n"
     ]
    }
   ],
   "source": [
    "def current_val(energy,mu_p,mu_l,mu_r):#integral equation\n",
    "    first_trans = transmissionprob(sitegammastrn[2], sitegammastrn[0],energy)\n",
    "    left_bath = bosonic_distribution(mu_l, energy, beta_left)\n",
    "    probe = bosonic_distribution(mu_p, energy, beta_probe)\n",
    "    right_bath = bosonic_distribution(mu_r, energy, beta_right)\n",
    "    second_trans = transmissionprob(sitegammastrn[2], sitegammastrn[1],energy)\n",
    "    return first_trans*(probe - left_bath) + second_trans*(probe - right_bath)\n",
    "def current_int(mu_p,mu_l,mu_r):\n",
    "    point = np.linspace(-5.0,5.0,1500)\n",
    "    current_val2 = np.vectorize(current_val)\n",
    "    I = current_val2(point,mu_p,mu_l,mu_r)\n",
    "    return(integrate.simps(I,point))\n",
    "print(optimize.newton(lambda x: current_int(x,1.5,2.5),(1.5+2.5)/2))\n",
    "def current_full(energy, mu_l, mu_r):\n",
    "    mu_poi = optimize.newton(lambda x: current_int(x,mu_l,mu_r),(mu_l+mu_r)/2)\n",
    "    first_trans = transmissionprob(sitegammastrn[1], sitegammastrn[0],energy)\n",
    "    left_bath = bosonic_distribution(mu_l, energy, beta_left)\n",
    "    probe = bosonic_distribution(mu_poi, energy, beta_probe)\n",
    "    right_bath = bosonic_distribution(mu_r, energy, beta_right)\n",
    "    second_trans = transmissionprob(sitegammastrn[1], sitegammastrn[2],energy)\n",
    "    return first_trans*(right_bath - left_bath) + second_trans*(right_bath - probe)\n",
    "point = np.linspace(-5.0,5.0,1500) \n",
    "current_temp = np.vectorize(current_full)\n",
    "def current_full2(mu_l,mu_r):  \n",
    "    point = np.linspace(-5.0,5.0,1500) \n",
    "    current_temp = np.vectorize(current_full)\n",
    "    I = current_temp(point,mu_l, mu_r)\n",
    "    return(integrate.simps(I,point))\n",
    "\n",
    "for i in range(len(mu_R)):\n",
    "    plot = []\n",
    "    print(i)\n",
    "    plot.append(current_full2(mu_L,mu_R[i]))\n",
    "    print(i)\n",
    "np.savetxt('current_file' + '.txt', plot )\n",
    "np.savetxt('x_axis.txt', mu_R)"
   ]
  },
  {
   "cell_type": "code",
   "execution_count": null,
   "id": "e3ea5cbf",
   "metadata": {},
   "outputs": [],
   "source": []
  }
 ],
 "metadata": {
  "kernelspec": {
   "display_name": "Python 3.10.5 64-bit",
   "language": "python",
   "name": "python3"
  },
  "language_info": {
   "codemirror_mode": {
    "name": "ipython",
    "version": 3
   },
   "file_extension": ".py",
   "mimetype": "text/x-python",
   "name": "python",
   "nbconvert_exporter": "python",
   "pygments_lexer": "ipython3",
   "version": "3.10.5"
  },
  "vscode": {
   "interpreter": {
    "hash": "e7370f93d1d0cde622a1f8e1c04877d8463912d04d973331ad4851f04de6915a"
   }
  }
 },
 "nbformat": 4,
 "nbformat_minor": 5
}

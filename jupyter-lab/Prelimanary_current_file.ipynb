{
 "cells": [
  {
   "cell_type": "code",
   "execution_count": 98,
   "id": "257bc329-c1ea-4d42-b7b5-51bd80907d78",
   "metadata": {},
   "outputs": [
    {
     "ename": "ModuleNotFoundError",
     "evalue": "No module named 'mpmath'",
     "output_type": "error",
     "traceback": [
      "\u001b[0;31m---------------------------------------------------------------------------\u001b[0m",
      "\u001b[0;31mModuleNotFoundError\u001b[0m                       Traceback (most recent call last)",
      "\u001b[1;32m/home/bishal/Master's thesis/Codes/jupyter-lab/Prelimanary_current_file.ipynb Cell 1\u001b[0m in \u001b[0;36m<cell line: 8>\u001b[0;34m()\u001b[0m\n\u001b[1;32m      <a href='vscode-notebook-cell:/home/bishal/Master%27s%20thesis/Codes/jupyter-lab/Prelimanary_current_file.ipynb#ch0000000?line=5'>6</a>\u001b[0m \u001b[39mfrom\u001b[39;00m \u001b[39mscipy\u001b[39;00m\u001b[39m.\u001b[39;00m\u001b[39msparse\u001b[39;00m \u001b[39mimport\u001b[39;00m diags\n\u001b[1;32m      <a href='vscode-notebook-cell:/home/bishal/Master%27s%20thesis/Codes/jupyter-lab/Prelimanary_current_file.ipynb#ch0000000?line=6'>7</a>\u001b[0m \u001b[39mfrom\u001b[39;00m \u001b[39mscipy\u001b[39;00m\u001b[39m.\u001b[39;00m\u001b[39mintegrate\u001b[39;00m \u001b[39mimport\u001b[39;00m quad\n\u001b[0;32m----> <a href='vscode-notebook-cell:/home/bishal/Master%27s%20thesis/Codes/jupyter-lab/Prelimanary_current_file.ipynb#ch0000000?line=7'>8</a>\u001b[0m \u001b[39mfrom\u001b[39;00m \u001b[39mmpmath\u001b[39;00m \u001b[39mimport\u001b[39;00m \u001b[39m*\u001b[39m\n",
      "\u001b[0;31mModuleNotFoundError\u001b[0m: No module named 'mpmath'"
     ]
    }
   ],
   "source": [
    "import random\n",
    "import numpy as np\n",
    "import matplotlib.pyplot as plt\n",
    "import scipy.linalg as la\n",
    "import math,cmath\n",
    "from scipy.sparse import diags\n",
    "from scipy.integrate import quad\n",
    "from mpmath import *"
   ]
  },
  {
   "cell_type": "code",
   "execution_count": 94,
   "id": "148152f7-8844-4417-b45f-8191ff4ddca1",
   "metadata": {},
   "outputs": [],
   "source": [
    "Nmst = 60; #Number of lattice points\n",
    "Pbst = 50;#Probe attachment site\n",
    "lbd = 0.0 ;#Lambda strength ofAAH\n",
    "irrb = (1 + np.sqrt(5))/2\n",
    "t = 1.0; # hopping potential for sites\n",
    "to = 3.0; # hopping potential for bath\n",
    "sitegammaindx = [0, Nmst-1, Pbst-1]\n",
    "sitegammastrn = [1.0, 1.0, 0.0]\n",
    "siteindx = np.array(range(1, Nmst+1))\n",
    "sitepotential = 2*lbd*np.cos(2*np.pi*irrb*(siteindx))\n",
    "diagonals = [sitepotential,t*np.ones(Nmst-1), t*np.ones(Nmst-1)]\n",
    "offset = [0,-1,1]\n",
    "sys_Ham = diags(diagonals,offset,dtype='complex_').toarray()\n",
    "mu_l = 1.4\n",
    "mu_r = 1.8\n",
    "mu_p = 1.2\n",
    "beta_left = 1/10\n",
    "beta_right = 1/10\n",
    "beta_probe = 1/20\n",
    "def bosonic_distribution(mu, energy, beta):#bosonic distribution function\n",
    "    return 1/(np.exp(beta*(energy - mu)))\n",
    "def selfenergy(gamma,site,energy):#self energy matrix\n",
    "    mat =     mat = np.zeros((Nmst,Nmst),dtype = 'complex_')\n",
    "    mat[site,site] =  ((gamma**2/(2*to**2))*(energy - cmath.sqrt(4*to**2-energy**2)*1j))\n",
    "    return mat\n",
    "def specden(gamma,energy):#spectral density matrix(-2Im(sigma))\n",
    "    mat =  -2*((gamma**2/(2*to**2))*(energy - cmath.sqrt(4*to**2-energy**2)*1j)).imag\n",
    "    return mat\n",
    "def Green_func(energy):#green's function\n",
    "    mat = energy*np.identity(Nmst) - sys_Ham - selfenergy(sitegammastrn[0],sitegammaindx[0],energy) - \\\n",
    "    selfenergy(sitegammastrn[1],sitegammaindx[1],energy) - selfenergy(sitegammastrn[2],sitegammaindx[2],energy)\n",
    "    return (np.linalg.det(mat)/t)\n",
    "def advan_gren(energy):\n",
    "    mat = np.transpose(np.conjugate(Green_func(energy)))\n",
    "    return mat\n",
    "def transmissionprob(sitindx1, sitstrn1, sitindx2, sitstrn2, energy):\n",
    "    spcdn1 = specden(sitstrn1, energy)\n",
    "    retgre = Green_func(energy)\n",
    "    spcdn2 = specden(sitstrn2, energy)\n",
    "    advgre = advan_gren(energy)\n",
    "    mat = (spcdn1*spcdn2)/(abs(retgre)**2)\n",
    "    return mat"
   ]
  },
  {
   "cell_type": "code",
   "execution_count": 95,
   "id": "b07d3ab6",
   "metadata": {},
   "outputs": [
    {
     "ename": "NameError",
     "evalue": "name 'quadsoc' is not defined",
     "output_type": "error",
     "traceback": [
      "\u001b[0;31m---------------------------------------------------------------------------\u001b[0m",
      "\u001b[0;31mNameError\u001b[0m                                 Traceback (most recent call last)",
      "\u001b[1;32m/home/bishal/Master's thesis/Codes/jupyter-lab/Prelimanary_current_file.ipynb Cell 3\u001b[0m in \u001b[0;36m<cell line: 8>\u001b[0;34m()\u001b[0m\n\u001b[1;32m      <a href='vscode-notebook-cell:/home/bishal/Master%27s%20thesis/Codes/jupyter-lab/Prelimanary_current_file.ipynb#ch0000002?line=5'>6</a>\u001b[0m     second_trans \u001b[39m=\u001b[39m transmissionprob(sitegammaindx[\u001b[39m0\u001b[39m], sitegammastrn[\u001b[39m0\u001b[39m], sitegammaindx[\u001b[39m1\u001b[39m], sitegammaindx[\u001b[39m1\u001b[39m],energy)\n\u001b[1;32m      <a href='vscode-notebook-cell:/home/bishal/Master%27s%20thesis/Codes/jupyter-lab/Prelimanary_current_file.ipynb#ch0000002?line=6'>7</a>\u001b[0m     \u001b[39mreturn\u001b[39;00m first_trans\u001b[39m*\u001b[39m(left_bath \u001b[39m-\u001b[39m probe) \u001b[39m+\u001b[39m second_trans\u001b[39m*\u001b[39m(right_bath \u001b[39m-\u001b[39m probe)\n\u001b[0;32m----> <a href='vscode-notebook-cell:/home/bishal/Master%27s%20thesis/Codes/jupyter-lab/Prelimanary_current_file.ipynb#ch0000002?line=7'>8</a>\u001b[0m J, err  \u001b[39m=\u001b[39m quadsoc(current_val, [\u001b[39m-\u001b[39minf,inf])\n\u001b[1;32m      <a href='vscode-notebook-cell:/home/bishal/Master%27s%20thesis/Codes/jupyter-lab/Prelimanary_current_file.ipynb#ch0000002?line=8'>9</a>\u001b[0m point \u001b[39m=\u001b[39m np\u001b[39m.\u001b[39mlinspace(\u001b[39m-\u001b[39m\u001b[39m5\u001b[39m,\u001b[39m5\u001b[39m, \u001b[39m1500\u001b[39m)\n\u001b[1;32m     <a href='vscode-notebook-cell:/home/bishal/Master%27s%20thesis/Codes/jupyter-lab/Prelimanary_current_file.ipynb#ch0000002?line=9'>10</a>\u001b[0m current_val2 \u001b[39m=\u001b[39m np\u001b[39m.\u001b[39mvectorize(current_val)\n",
      "\u001b[0;31mNameError\u001b[0m: name 'quadsoc' is not defined"
     ]
    }
   ],
   "source": [
    "def current_val(energy):#integral equation\n",
    "    first_trans = transmissionprob(sitegammaindx[2], sitegammastrn[2], sitegammaindx[0], sitegammaindx[0],energy)\n",
    "    left_bath = bosonic_distribution(mu_l, energy, beta_left)\n",
    "    probe = bosonic_distribution(mu_p, energy, beta_probe)\n",
    "    right_bath = bosonic_distribution(mu_r, energy, beta_right)\n",
    "    second_trans = transmissionprob(sitegammaindx[0], sitegammastrn[0], sitegammaindx[1], sitegammaindx[1],energy)\n",
    "    return first_trans*(left_bath - probe) + second_trans*(right_bath - probe)\n",
    "J, err  = quadosc(current_val, [-inf,inf])\n",
    "point = np.linspace(-5,5, 1500)\n",
    "current_val2 = np.vectorize(current_val)\n",
    "I = current_val2(point)\n",
    "plt.plot(point,I)\n",
    "plt.show()\n",
    "    "
   ]
  },
  {
   "cell_type": "code",
   "execution_count": null,
   "id": "342abdc9",
   "metadata": {},
   "outputs": [],
   "source": []
  },
  {
   "cell_type": "code",
   "execution_count": null,
   "id": "a13d4170",
   "metadata": {},
   "outputs": [],
   "source": []
  }
 ],
 "metadata": {
  "kernelspec": {
   "display_name": "Python 3.10.5 64-bit",
   "language": "python",
   "name": "python3"
  },
  "language_info": {
   "codemirror_mode": {
    "name": "ipython",
    "version": 3
   },
   "file_extension": ".py",
   "mimetype": "text/x-python",
   "name": "python",
   "nbconvert_exporter": "python",
   "pygments_lexer": "ipython3",
   "version": "3.10.5"
  },
  "vscode": {
   "interpreter": {
    "hash": "e7370f93d1d0cde622a1f8e1c04877d8463912d04d973331ad4851f04de6915a"
   }
  }
 },
 "nbformat": 4,
 "nbformat_minor": 5
}

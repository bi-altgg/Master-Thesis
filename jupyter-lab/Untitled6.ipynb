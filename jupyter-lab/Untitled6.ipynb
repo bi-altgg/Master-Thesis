{
 "cells": [
  {
   "cell_type": "code",
   "execution_count": 1,
   "id": "257bc329-c1ea-4d42-b7b5-51bd80907d78",
   "metadata": {},
   "outputs": [],
   "source": [
    "import random\n",
    "import numpy as np\n",
    "import matplotlib.pyplot as plt\n",
    "import scipy.linalg as la\n",
    "import math,cmath\n",
    "from scipy.sparse import diags\n"
   ]
  },
  {
   "cell_type": "code",
   "execution_count": null,
   "id": "148152f7-8844-4417-b45f-8191ff4ddca1",
   "metadata": {},
   "outputs": [],
   "source": [
    "Nmst = 200; #Number of lattice points\n",
    "Pbst = 100;#Probe attachment site\n",
    "lbd = 0.0 ;#Lambda strength ofAAH\n",
    "irrb = (1 + np.sqrt(5))/2\n",
    "sitegammaindx = [0, n-1, no-1]\n",
    "sitegammastrn = [1.0, 1.0, 0.0]\n",
    "siteindx = np.array(range(1, n+1))\n",
    "sitepotential = 2*lbd*np.cos(2*np.pi*irrb*(siteindx))\n",
    "diagonals = [sitepotential,t*np.ones(n-1), t*np.ones(n-1)]\n",
    "offset = [0,-1,1]\n",
    "sys_Ham = diags(diagonals,offset,dtype='complex_').toarray()\n",
    "def bosonic_distribution(mu, energy, beta):#bosonic distribution function\n",
    "    return 1/(np.exp(beta*(energy - mu)))\n",
    "def selfenergy(gamma,site,energy):#self energy matrix\n",
    "    mat =     mat = np.zeros((n,n),dtype = 'complex_')\n",
    "    mat[site,site] =  ((gamma**2/(2*to**2))*(energy - np.sqrt(4*to**2-energy**2)*1j))\n",
    "    return mat\n",
    "def specden(gamma,site,energy):#spectral density matrix(-2Im(sigma))\n",
    "    mat = np.zeros((n,n),dtype = 'complex_')\n",
    "    mat[site,site] =  -2*((gamma**2/(2*to**2))*(energy - np.sqrt(4*to**2-energy**2)*1j)).imag\n",
    "    return mat\n",
    "def Green_func(energy, lefsite, rightsite, gammaleft, leftsite, gammaprobe, probsite):#green's function\n",
    "    mat = energy*np.identity(n) - sys_Ham - selfenergy(gammaleft,leftsite,energy) - \\\n",
    "    selfenergy(gammaright,rightsite,energy) - selfenergy(gammaprobe,probsite,energy)\n",
    "    return np.linalg.inv(mat)\n",
    "def advan_gren(energy, lefsite, rightsite, gammaleft, leftsite, gammaprobe, probsite):\n",
    "    mat = np.transpose(np.conjugate\\\n",
    "                       (Green_func(energy, lefsite, rightsite, \\\n",
    "                                   gammaleft, leftsite, gammaprobe, probsite)))\n",
    "    return mat\n",
    "def transmissionprob()"
   ]
  }
 ],
 "metadata": {
  "kernelspec": {
   "display_name": "Python 3.10.5 64-bit",
   "language": "python",
   "name": "python3"
  },
  "language_info": {
   "codemirror_mode": {
    "name": "ipython",
    "version": 3
   },
   "file_extension": ".py",
   "mimetype": "text/x-python",
   "name": "python",
   "nbconvert_exporter": "python",
   "pygments_lexer": "ipython3",
   "version": "3.10.5"
  },
  "vscode": {
   "interpreter": {
    "hash": "e7370f93d1d0cde622a1f8e1c04877d8463912d04d973331ad4851f04de6915a"
   }
  }
 },
 "nbformat": 4,
 "nbformat_minor": 5
}
